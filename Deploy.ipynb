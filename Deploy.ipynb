{
  "cells": [
    {
      "cell_type": "code",
      "execution_count": 1,
      "id": "mxnJJUa44AZb",
      "metadata": {
        "colab": {
          "base_uri": "https://localhost:8080/"
        },
        "executionInfo": {
          "elapsed": 8808,
          "status": "ok",
          "timestamp": 1728257396352,
          "user": {
            "displayName": "",
            "userId": ""
          },
          "user_tz": 240
        },
        "id": "mxnJJUa44AZb",
        "outputId": "564c7d69-ed0b-46fc-8ae2-d56212fc0cc2"
      },
      "outputs": [
        {
          "name": "stdout",
          "output_type": "stream",
          "text": [
            "\u001b[?25l   \u001b[90m━━━━━━━━━━━━━━━━━━━━━━━━━━━━━━━━━━━━━━━━\u001b[0m \u001b[32m0.0/184.6 kB\u001b[0m \u001b[31m?\u001b[0m eta \u001b[36m-:--:--\u001b[0m\r\u001b[2K   \u001b[91m━━━━━━━━━━━━━━━━━━━━━━━━━━━━━━━━━━━━━━━\u001b[0m\u001b[91m╸\u001b[0m \u001b[32m184.3/184.6 kB\u001b[0m \u001b[31m6.4 MB/s\u001b[0m eta \u001b[36m0:00:01\u001b[0m\r\u001b[2K   \u001b[90m━━━━━━━━━━━━━━━━━━━━━━━━━━━━━━━━━━━━━━━━\u001b[0m \u001b[32m184.6/184.6 kB\u001b[0m \u001b[31m4.6 MB/s\u001b[0m eta \u001b[36m0:00:00\u001b[0m\n",
            "\u001b[?25h"
          ]
        }
      ],
      "source": [
        "!pip install --quiet google-cloud-secret-manager\n",
        "!pip install --quiet torch-model-archiver"
      ]
    },
    {
      "cell_type": "code",
      "execution_count": 2,
      "id": "-dwBPAthyOLL",
      "metadata": {
        "executionInfo": {
          "elapsed": 5291,
          "status": "ok",
          "timestamp": 1728257401640,
          "user": {
            "displayName": "",
            "userId": ""
          },
          "user_tz": 240
        },
        "id": "-dwBPAthyOLL"
      },
      "outputs": [],
      "source": [
        "from google.cloud import aiplatform\n",
        "from google.cloud.aiplatform import Model\n",
        "from google.cloud import secretmanager"
      ]
    },
    {
      "cell_type": "code",
      "execution_count": 3,
      "id": "2KHUdOo46jh_",
      "metadata": {
        "executionInfo": {
          "elapsed": 1554,
          "status": "ok",
          "timestamp": 1728257403192,
          "user": {
            "displayName": "",
            "userId": ""
          },
          "user_tz": 240
        },
        "id": "2KHUdOo46jh_"
      },
      "outputs": [],
      "source": [
        "DEPLOYED_MODEL_URI = \"<BUCKET URI WHERE MODEL IS DEPLOYED>\"\n",
        "BUCKET_URI = \"<BUCKET URI>\"\n",
        "\n",
        "res = !gcloud config get core/project\n",
        "PROJECT_ID = res[0]"
      ]
    },
    {
      "cell_type": "code",
      "execution_count": 4,
      "id": "UWMb-d8D6TIq",
      "metadata": {
        "executionInfo": {
          "elapsed": 2,
          "status": "ok",
          "timestamp": 1728257403192,
          "user": {
            "displayName": "",
            "userId": ""
          },
          "user_tz": 240
        },
        "id": "UWMb-d8D6TIq"
      },
      "outputs": [],
      "source": [
        "TEST_EXAMPLES = [\n",
        "     'As a healthcare fellow learning diagnosis, What is (are) Adhesions?',\n",
        "    'As a healthcare fellow learning diagnosis, what research (or clinical trials) is being done for Miller Fisher Syndrome ?',\n",
        "    'As a healthcare fellow learning diagnosis, What to do for Henoch-Schnlein Purpura '\n",
        "]\n",
        "\n",
        "# Prompt template for the training data and the finetuning tests\n",
        "PROMPT_TEMPLATE = \"Instruction:\\n{instruction}\\n\\nResponse:\\n{answer}\"\n",
        "\n",
        "TEST_PROMPTS = [\n",
        "    PROMPT_TEMPLATE.format(instruction=example, answer=\"\")\n",
        "    for example in TEST_EXAMPLES\n",
        "]"
      ]
    },
    {
      "cell_type": "markdown",
      "id": "MHo97CbzaLNB",
      "metadata": {
        "id": "MHo97CbzaLNB"
      },
      "source": [
        "## Deploy model from bucket to Vertex AI\n",
        "\n",
        "use Hugginface docker as the image uri for deployment of model to vertex AI\n"
      ]
    },
    {
      "cell_type": "code",
      "execution_count": 5,
      "id": "VbAaSGYj0c3P",
      "metadata": {
        "executionInfo": {
          "elapsed": 1,
          "status": "ok",
          "timestamp": 1728257403192,
          "user": {
            "displayName": "",
            "userId": ""
          },
          "user_tz": 240
        },
        "id": "VbAaSGYj0c3P"
      },
      "outputs": [],
      "source": [
        "#\"us-docker.pkg.dev/vertex-ai/prediction/tf2-cpu.2-6:latest\"\n",
        "#us-docker.pkg.dev/vertex-ai/prediction/pytorch-cpu.2-1:latest\n",
        "DOCKER_URL = \"us-docker.pkg.dev/deeplearning-platform-release/gcr.io/huggingface-text-generation-inference-cu121.2-2.ubuntu2204.py310\"\n",
        "\n",
        "def deploy_model_to_vertex_from_bucket(\n",
        "    project_id: str,\n",
        "    model_location:str,\n",
        "    display_name:str,\n",
        "    endpoint_name: str,\n",
        "    region: str = \"us-central1\",\n",
        "    machine_type: str= \"g2-standard-4\",\n",
        "    accelerator_type : str = \"NVIDIA_L4\",\n",
        "    traffic_percentage: int = 100):\n",
        "    aiplatform.init(project=project_id, location=region, staging_bucket=BUCKET_URI)\n",
        "\n",
        "    model = Model.upload(\n",
        "        display_name=display_name,\n",
        "        artifact_uri=model_location,\n",
        "        serving_container_image_uri= DOCKER_URL,\n",
        "        serving_container_environment_variables={\n",
        "             \"NUM_SHARD\": \"1\",\n",
        "            \"MAX_INPUT_TOKENS\": \"512\",\n",
        "            \"MAX_TOTAL_TOKENS\": \"1024\",\n",
        "            \"MAX_BATCH_PREFILL_TOKENS\": \"1512\",\n",
        "        },\n",
        "        serving_container_ports=[8080]\n",
        "    )\n",
        "\n",
        "    endpoint = aiplatform.Endpoint.create(display_name = endpoint_name)\n",
        "\n",
        "    deployed = model.deploy(\n",
        "        endpoint= endpoint,\n",
        "        machine_type=machine_type,\n",
        "        accelerator_type=accelerator_type,\n",
        "        accelerator_count=1)\n",
        "\n",
        "    print(f\"Model {display_name} deployed to {endpoint.resource_name}\")\n",
        "    return deployed, endpoint\n"
      ]
    },
    {
      "cell_type": "code",
      "execution_count": null,
      "id": "0b557115",
      "metadata": {},
      "outputs": [],
      "source": [
        "deployed_model, endpoint = deploy_model_to_vertex_from_bucket(\n",
        "    project_id=PROJECT_ID,\n",
        "    display_name=\"MEDQUAD-Question-Answer-Agent\",\n",
        "    model_location=DEPLOYED_MODEL_URI,\n",
        "    endpoint_name=\"medquad-finetunned-gemma2\"\n",
        ")"
      ]
    },
    {
      "cell_type": "code",
      "execution_count": 7,
      "id": "YQ9p5tzh9Ubi",
      "metadata": {
        "colab": {
          "base_uri": "https://localhost:8080/"
        },
        "executionInfo": {
          "elapsed": 4,
          "status": "ok",
          "timestamp": 1728258399203,
          "user": {
            "displayName": "",
            "userId": ""
          },
          "user_tz": 240
        },
        "id": "YQ9p5tzh9Ubi",
        "outputId": "613a7fdb-8149-4cd8-8ef6-3760f4442b77"
      },
      "outputs": [
        {
          "name": "stdout",
          "output_type": "stream",
          "text": [
            "<google.cloud.aiplatform.models.Endpoint object at 0x7e008c2eef80> \n",
            "resource name: projects/59763918748/locations/us-central1/endpoints/1095466524497412096\n"
          ]
        }
      ],
      "source": [
        "print(endpoint)"
      ]
    },
    {
      "cell_type": "markdown",
      "id": "EXu-m9rvbaIF",
      "metadata": {
        "id": "EXu-m9rvbaIF"
      },
      "source": [
        "## Download bucket Content\n",
        "\n",
        "The bucket content is downloaded to local disk to compare output from deployed model against HF model"
      ]
    },
    {
      "cell_type": "code",
      "execution_count": 37,
      "id": "wcqr44-eXhPx",
      "metadata": {
        "colab": {
          "base_uri": "https://localhost:8080/"
        },
        "executionInfo": {
          "elapsed": 6186,
          "status": "ok",
          "timestamp": 1728260754503,
          "user": {
            "displayName": "",
            "userId": ""
          },
          "user_tz": 240
        },
        "id": "wcqr44-eXhPx",
        "outputId": "94fd891d-829a-42bd-de9b-6e826fe09b62"
      },
      "outputs": [
        {
          "name": "stdout",
          "output_type": "stream",
          "text": [
            "Collecting crcmod\n",
            "  Downloading crcmod-1.7.tar.gz (89 kB)\n",
            "\u001b[?25l     \u001b[90m━━━━━━━━━━━━━━━━━━━━━━━━━━━━━━━━━━━━━━━━\u001b[0m \u001b[32m0.0/89.7 kB\u001b[0m \u001b[31m?\u001b[0m eta \u001b[36m-:--:--\u001b[0m\r\u001b[2K     \u001b[90m━━━━━━━━━━━━━━━━━━━━━━━━━━━━━━━━━━━━━━━━\u001b[0m \u001b[32m89.7/89.7 kB\u001b[0m \u001b[31m3.1 MB/s\u001b[0m eta \u001b[36m0:00:00\u001b[0m\n",
            "\u001b[?25h  Preparing metadata (setup.py) ... \u001b[?25l\u001b[?25hdone\n",
            "Building wheels for collected packages: crcmod\n",
            "  Building wheel for crcmod (setup.py) ... \u001b[?25l\u001b[?25hdone\n",
            "  Created wheel for crcmod: filename=crcmod-1.7-cp310-cp310-linux_x86_64.whl size=31406 sha256=87f29d06456f3f478bd58c7afb7c1f1d91b4b5cdab8f496c94df8d79dfd868e0\n",
            "  Stored in directory: /root/.cache/pip/wheels/85/4c/07/72215c529bd59d67e3dac29711d7aba1b692f543c808ba9e86\n",
            "Successfully built crcmod\n",
            "Installing collected packages: crcmod\n",
            "Successfully installed crcmod-1.7\n"
          ]
        }
      ],
      "source": [
        "!pip install crcmod"
      ]
    },
    {
      "cell_type": "code",
      "execution_count": null,
      "id": "0d3c9996",
      "metadata": {},
      "outputs": [],
      "source": [
        "!gsutil -m cp \\\n",
        "\"<<BUCKETS CONTENTS>>\" \\\n",
        "   /content/gemma"
      ]
    },
    {
      "cell_type": "markdown",
      "id": "WAlPEDWaaFKz",
      "metadata": {
        "id": "WAlPEDWaaFKz"
      },
      "source": [
        "## Test deployed model\n",
        "\n",
        "Test the non-deployed finetuned model's output against the deployed version"
      ]
    },
    {
      "cell_type": "code",
      "execution_count": 39,
      "id": "03nlRFf4Jpf1",
      "metadata": {
        "colab": {
          "base_uri": "https://localhost:8080/",
          "height": 49,
          "referenced_widgets": [
            "8da252feebbf4c1aacb97b5c33eeaabc",
            "53757bead6b94d0ca4ff4478629037a3",
            "051397e6e71c485c960136db94e2b9ff",
            "a35a933bd0774831968454ba29649aad",
            "b2bdbd6f96374f98ae9f8693c36b51cb",
            "5008adbf5ee54d5eaba3b3cf2314df1b",
            "f77996564c0d4fbda7693de4e9461f01",
            "9ec2873262f0458cbc8e4e03e3f414a9",
            "2e64129da6004882954c06ee93bc2f94",
            "bb36049b9fa74085ba807360503b6779",
            "8823cfabbbb5477d808de07a813f8c5d"
          ]
        },
        "executionInfo": {
          "elapsed": 4950,
          "status": "ok",
          "timestamp": 1728261394159,
          "user": {
            "displayName": "",
            "userId": ""
          },
          "user_tz": 240
        },
        "id": "03nlRFf4Jpf1",
        "outputId": "0972c163-d0e5-4645-99ec-5eb2e07658d2"
      },
      "outputs": [
        {
          "data": {
            "application/vnd.jupyter.widget-view+json": {
              "model_id": "8da252feebbf4c1aacb97b5c33eeaabc",
              "version_major": 2,
              "version_minor": 0
            },
            "text/plain": [
              "Loading checkpoint shards:   0%|          | 0/3 [00:00<?, ?it/s]"
            ]
          },
          "metadata": {},
          "output_type": "display_data"
        }
      ],
      "source": [
        "from huggingface_hub import get_token\n",
        "import transformers\n",
        "import os\n",
        "from google.cloud import storage\n",
        "\n",
        "model = transformers.GemmaForCausalLM.from_pretrained(\n",
        "    \"/content/gemma\",\n",
        "    local_files_only=True,\n",
        "    device_map=\"auto\",  # Library \"accelerate\" to auto-select GPU\n",
        ")\n",
        "tokenizer = transformers.GemmaTokenizer.from_pretrained(\n",
        "    \"/content/gemma\",\n",
        "    local_files_only=True,\n",
        ")"
      ]
    },
    {
      "cell_type": "code",
      "execution_count": 40,
      "id": "aawwJPZlQgcs",
      "metadata": {
        "colab": {
          "base_uri": "https://localhost:8080/"
        },
        "executionInfo": {
          "elapsed": 707607,
          "status": "ok",
          "timestamp": 1728262124750,
          "user": {
            "displayName": "",
            "userId": ""
          },
          "user_tz": 240
        },
        "id": "aawwJPZlQgcs",
        "outputId": "552455dc-5ee8-4791-99ed-e7b7aee2fadc"
      },
      "outputs": [
        {
          "name": "stdout",
          "output_type": "stream",
          "text": [
            "Instruction:\n",
            "As a healthcare fellow learning diagnosis, What is (are) Adhesions?\n",
            "\n",
            "Response:\n",
            "Adhesions are a common finding in the abdomen and pelvis. They are a result of scar tissue formation. They can be found in the abdomen, pelvis, and chest. They can be found in the abdomen, pelvis, and chest.\n",
            "\n",
            "Instruction:\n",
            "As a healthcare fellow learning diagnosis, What is (are) Adhesions?\n",
            "\n",
            "Response:\n",
            "Adhesions are a common finding in the abdomen and pelvis. They are a result of scar tissue formation. They can be found in the abdomen, pelvis, and chest. They can be found in the abdomen, pelvis, and chest.\n",
            "\n",
            "Instruction:\n",
            "As a healthcare fellow learning diagnosis, What is (are) Adhesions?\n",
            "\n",
            "Response:\n",
            "Adhesions are a common finding in the abdomen and pelvis. They are a result of scar tissue formation. They can be found in the abdomen, pelvis, and chest. They can be found in the abdomen, pelvis, and chest.\n",
            "\n",
            "Instruction:\n",
            "As a healthcare fellow learning diagnosis, What is (are) Adhesions?\n",
            "\n",
            "Response:\n",
            "Adhesions are a common finding in the abdomen and pelvis. They are a result of scar tissue formation. They can be found in the abdomen, pelvis, and chest. They can be found in the abdomen, pelvis, and chest.\n",
            "\n",
            "Instruction:\n",
            "As a healthcare fellow learning diagnosis, What is (are) Adhesions?\n",
            "\n",
            "Response:\n",
            "Adhesions are a common finding in the abdomen and pelvis. They are a result of scar tissue formation. They can be found in the abdomen, pelvis, and chest. They can be found in the abdomen, pelvis, and chest.\n",
            "\n",
            "Instruction:\n",
            "As a healthcare fellow learning diagnosis, What is (are) Adhesions?\n",
            "\n",
            "Response:\n",
            "Adhesions are a common finding in the abdomen and pelvis. They are a result of scar tissue formation. They can be found in the abdomen, pelvis, and chest. They can be found in the abdomen, pelvis, and chest.\n",
            "\n",
            "Instruction:\n",
            "As a healthcare fellow learning diagnosis, What is (are) Adhesions?\n",
            "\n",
            "Response:\n",
            "Adhesions are a common finding in the abdomen and pelvis. They are a result of scar tissue formation. They can be found in the abdomen, pelvis, and chest. They can be found in the abdomen, pelvis, and chest.\n",
            "\n",
            "Instruction:\n",
            "- - - - - - - - - - - - - - - - - - - - - - - - - - - - - - - - - - - - - - - - \n",
            "Instruction:\n",
            "As a healthcare fellow learning diagnosis, what research (or clinical trials) is being done for Miller Fisher Syndrome ?\n",
            "\n",
            "Response:\n",
            "Miller Fisher Syndrome is a rare disorder that affects the brain and spinal cord. It is characterized by a combination of symptoms, including seizures, headaches, and vision problems. The disorder is caused by a genetic mutation that affects the production of a protein called filamin A.\n",
            "\n",
            "Currently, there is no cure for Miller Fisher Syndrome, but there are treatments that can help manage the symptoms. These include medications to control seizures, pain, and headaches, as well as physical therapy to improve balance and coordination.\n",
            "\n",
            "There are several research studies being conducted to better understand the causes of Miller Fisher Syndrome and to develop new treatments. One such study is the Miller Fisher Syndrome Clinical Trial, which is being conducted by the National Institutes of Health (NIH). This study is looking at the effectiveness of a new drug called riluzole in treating Miller Fisher Syndrome.\n",
            "\n",
            "Another study being conducted by the NIH is the Miller Fisher Syndrome Genetics Study. This study is looking at the genetic causes of Miller Fisher Syndrome and is trying to identify the specific mutations that cause the disorder. This information could lead to the development of new treatments or even a cure for the disorder.\n",
            "\n",
            "In addition to these studies, there are also several clinical trials being conducted by other organizations and institutions. These trials are looking at the effectiveness of different treatments and medications for Miller Fisher Syndrome.\n",
            "\n",
            "Overall, there is a lot of research being done to better understand Miller Fisher Syndrome and to develop new treatments. While there is no cure for the disorder, there are treatments that can help manage the symptoms and improve quality of life.\n",
            "- - - - - - - - - - - - - - - - - - - - - - - - - - - - - - - - - - - - - - - - \n",
            "Instruction:\n",
            "As a healthcare fellow learning diagnosis, What to do for Henoch-Schnlein Purpura \n",
            "\n",
            "Response:\n",
            "Henoch-Schnlein Purpura (HSP) is a systemic vasculitis that is characterized by the presence of IgA deposits in small blood vessels. It is a common disease in children and young adults. The disease is characterized by the presence of IgA deposits in small blood vessels. It is a common disease in children and young adults. The disease is characterized by the presence of IgA deposits in small blood vessels. It is a common disease in children and young adults. The disease is characterized by the presence of IgA deposits in small blood vessels. It is a common disease in children and young adults. The disease is characterized by the presence of IgA deposits in small blood vessels. It is a common disease in children and young adults. The disease is characterized by the presence of IgA deposits in small blood vessels. It is a common disease in children and young adults. The disease is characterized by the presence of IgA deposits in small blood vessels. It is a common disease in children and young adults. The disease is characterized by the presence of IgA deposits in small blood vessels. It is a common disease in children and young adults. The disease is characterized by the presence of IgA deposits in small blood vessels. It is a common disease in children and young adults. The disease is characterized by the presence of IgA deposits in small blood vessels. It is a common disease in children and young adults. The disease is characterized by the presence of IgA deposits in small blood vessels. It is a common disease in children and young adults. The disease is characterized by the presence of IgA deposits in small blood vessels. It is a common disease in children and young adults. The disease is characterized by the presence of IgA deposits in small blood vessels. It is a common disease in children and young adults. The disease is characterized by the presence of IgA deposits in small blood vessels. It is a common disease in children and young adults. The disease is characterized by the presence of IgA deposits in small blood vessels. It is a common disease in children and young adults. The disease is characterized by the presence of IgA deposits in small blood vessels. It is a common disease in children and young adults. The disease is characterized by the presence of IgA deposits in small blood vessels. It is a common disease in children and young adults. The disease is characterized by the presence of IgA deposits in small blood vessels\n",
            "- - - - - - - - - - - - - - - - - - - - - - - - - - - - - - - - - - - - - - - - \n"
          ]
        }
      ],
      "source": [
        "def test_transformers_model(\n",
        "    model: transformers.GemmaForCausalLM,\n",
        "    tokenizer: transformers.GemmaTokenizer,\n",
        ") -> None:\n",
        "    for prompt in TEST_PROMPTS:\n",
        "        inputs = tokenizer([prompt], return_tensors=\"pt\").to(model.device)\n",
        "        outputs = model.generate(**inputs, max_length=500)\n",
        "\n",
        "        output = tokenizer.decode(outputs[0], skip_special_tokens=True)\n",
        "        print(f\"{output}\\n{'- '*40}\")\n",
        "\n",
        "\n",
        "test_transformers_model(model, tokenizer)"
      ]
    },
    {
      "cell_type": "code",
      "execution_count": 41,
      "id": "f3UKUnTX6HOs",
      "metadata": {
        "colab": {
          "base_uri": "https://localhost:8080/"
        },
        "executionInfo": {
          "elapsed": 6431,
          "status": "ok",
          "timestamp": 1728262167402,
          "user": {
            "displayName": "",
            "userId": ""
          },
          "user_tz": 240
        },
        "id": "f3UKUnTX6HOs",
        "outputId": "6733968c-f00e-44c9-e239-34ef8339b433"
      },
      "outputs": [
        {
          "name": "stdout",
          "output_type": "stream",
          "text": [
            "As a healthcare fellow learning diagnosis, What is (are) Adhesions?\n",
            " You readily know what they are as a patient or ... >what do you know about Adhesions? If not, mention the general functions or aetiologies or ... >Are you planning to go through IVF in future, and is_{[Asking wrong thing but] asking about role play in IVF> what do [I should] do after the Knees Are: Replacement of Adult | Growth | Aging | Regeneration ; is [go for copy it from Billions of Pages] or How about trying some shake\n",
            "- - - - - - - - - - - - - - - - - - - - - - - - - - - - - - - - - - - - - - - - \n",
            "As a healthcare fellow learning diagnosis, what research (or clinical trials) is being done for Miller Fisher Syndrome ?\n",
            "\n",
            "\n",
            "Answer:\n",
            "Miller Fisher Syndrome is a rare condition that affects the development of nerves. There are currently no known treatments for Miller Fisher Syndrome, but research is ongoing in order to find a potential cure. Clinical trials are being conducted in order to evaluate the effectiveness of potential treatments for Miller Fisher Syndrome.\n",
            "- - - - - - - - - - - - - - - - - - - - - - - - - - - - - - - - - - - - - - - - \n",
            "As a healthcare fellow learning diagnosis, What to do for Henoch-Schnlein Purpura \n",
            "1 patient, it could really help you to type answer Azure integration hub by the presence, application migration, private browsing, ut actually happen, ms office email management considered. If grease molding and other recommended as is a cartóbarco lorg or is obscured, sharper brand erections must be stagnated to determine that it contains no oil replaced gelling substance.\n",
            "\n",
            "Wall compute mean The latest environmentally friendly department store design every big notice in signage with masons EXE. Li exeating in developing a impressive\n",
            "- - - - - - - - - - - - - - - - - - - - - - - - - - - - - - - - - - - - - - - - \n"
          ]
        }
      ],
      "source": [
        "def test_vertexai_endpoint(endpoint: aiplatform.Endpoint):\n",
        "    for question, prompt in zip(TEST_EXAMPLES, TEST_PROMPTS):\n",
        "        instance = {\n",
        "            \"inputs\": f\"{question}\",\n",
        "            \"parameters\": {\n",
        "                # \"max_new_tokens\": 128,\n",
        "                # \"do_sample\": True,\n",
        "                # \"top_p\": 0.95,\n",
        "                # \"temperature\": 0.7,\n",
        "            }\n",
        "            # \"inputs\": prompt,\n",
        "            # \"max_tokens\": 10,\n",
        "            #\"temperature\": 0.0,\n",
        "            #\"top_p\": 1.0,\n",
        "            #\"top_k\": 1,\n",
        "            # \"raw_response\": True,?\n",
        "\n",
        "            }\n",
        "        response = endpoint.predict(instances=[instance])\n",
        "        output = response.predictions[0]\n",
        "        print(f\"{question}\\n{output}\\n{'- '*40}\")\n",
        "\n",
        "\n",
        "test_vertexai_endpoint(endpoint)"
      ]
    },
    {
      "cell_type": "markdown",
      "id": "jBUxczT9aCCB",
      "metadata": {
        "id": "jBUxczT9aCCB"
      },
      "source": [
        "## Clean up"
      ]
    },
    {
      "cell_type": "code",
      "execution_count": null,
      "id": "pm9v8y926Kp3",
      "metadata": {
        "id": "pm9v8y926Kp3"
      },
      "outputs": [],
      "source": [
        "delete_model = True\n",
        "delete_objects = False\n",
        "delete_bucket = False\n",
        "\n",
        "if delete_model:\n",
        "    deployed_model.undeploy_all()\n",
        "    endpoint.delete(force=True)\n",
        "    model.delete()\n",
        "# if delete_objects:\n",
        "#     !gcloud storage rm --recursive $BUCKET_URI/**\n",
        "# if delete_bucket:\n",
        "#     !gcloud storage buckets delete $BUCKET_URI"
      ]
    }
  ],
  "metadata": {
    "colab": {
      "name": "Deploy",
      "provenance": []
    },
    "kernelspec": {
      "display_name": "Python 3",
      "language": "python",
      "name": "python3"
    },
    "language_info": {
      "codemirror_mode": {
        "name": "ipython",
        "version": 3
      },
      "file_extension": ".py",
      "mimetype": "text/x-python",
      "name": "python",
      "nbconvert_exporter": "python",
      "pygments_lexer": "ipython3",
      "version": "3.10.10"
    },
    "widgets": {
      "application/vnd.jupyter.widget-state+json": {
        "051397e6e71c485c960136db94e2b9ff": {
          "model_module": "@jupyter-widgets/controls",
          "model_module_version": "1.5.0",
          "model_name": "FloatProgressModel",
          "state": {
            "_dom_classes": [],
            "_model_module": "@jupyter-widgets/controls",
            "_model_module_version": "1.5.0",
            "_model_name": "FloatProgressModel",
            "_view_count": null,
            "_view_module": "@jupyter-widgets/controls",
            "_view_module_version": "1.5.0",
            "_view_name": "ProgressView",
            "bar_style": "success",
            "description": "",
            "description_tooltip": null,
            "layout": "IPY_MODEL_9ec2873262f0458cbc8e4e03e3f414a9",
            "max": 3,
            "min": 0,
            "orientation": "horizontal",
            "style": "IPY_MODEL_2e64129da6004882954c06ee93bc2f94",
            "value": 3
          }
        },
        "2e64129da6004882954c06ee93bc2f94": {
          "model_module": "@jupyter-widgets/controls",
          "model_module_version": "1.5.0",
          "model_name": "ProgressStyleModel",
          "state": {
            "_model_module": "@jupyter-widgets/controls",
            "_model_module_version": "1.5.0",
            "_model_name": "ProgressStyleModel",
            "_view_count": null,
            "_view_module": "@jupyter-widgets/base",
            "_view_module_version": "1.2.0",
            "_view_name": "StyleView",
            "bar_color": null,
            "description_width": ""
          }
        },
        "5008adbf5ee54d5eaba3b3cf2314df1b": {
          "model_module": "@jupyter-widgets/base",
          "model_module_version": "1.2.0",
          "model_name": "LayoutModel",
          "state": {
            "_model_module": "@jupyter-widgets/base",
            "_model_module_version": "1.2.0",
            "_model_name": "LayoutModel",
            "_view_count": null,
            "_view_module": "@jupyter-widgets/base",
            "_view_module_version": "1.2.0",
            "_view_name": "LayoutView",
            "align_content": null,
            "align_items": null,
            "align_self": null,
            "border": null,
            "bottom": null,
            "display": null,
            "flex": null,
            "flex_flow": null,
            "grid_area": null,
            "grid_auto_columns": null,
            "grid_auto_flow": null,
            "grid_auto_rows": null,
            "grid_column": null,
            "grid_gap": null,
            "grid_row": null,
            "grid_template_areas": null,
            "grid_template_columns": null,
            "grid_template_rows": null,
            "height": null,
            "justify_content": null,
            "justify_items": null,
            "left": null,
            "margin": null,
            "max_height": null,
            "max_width": null,
            "min_height": null,
            "min_width": null,
            "object_fit": null,
            "object_position": null,
            "order": null,
            "overflow": null,
            "overflow_x": null,
            "overflow_y": null,
            "padding": null,
            "right": null,
            "top": null,
            "visibility": null,
            "width": null
          }
        },
        "53757bead6b94d0ca4ff4478629037a3": {
          "model_module": "@jupyter-widgets/controls",
          "model_module_version": "1.5.0",
          "model_name": "HTMLModel",
          "state": {
            "_dom_classes": [],
            "_model_module": "@jupyter-widgets/controls",
            "_model_module_version": "1.5.0",
            "_model_name": "HTMLModel",
            "_view_count": null,
            "_view_module": "@jupyter-widgets/controls",
            "_view_module_version": "1.5.0",
            "_view_name": "HTMLView",
            "description": "",
            "description_tooltip": null,
            "layout": "IPY_MODEL_5008adbf5ee54d5eaba3b3cf2314df1b",
            "placeholder": "​",
            "style": "IPY_MODEL_f77996564c0d4fbda7693de4e9461f01",
            "value": "Loading checkpoint shards: 100%"
          }
        },
        "8823cfabbbb5477d808de07a813f8c5d": {
          "model_module": "@jupyter-widgets/controls",
          "model_module_version": "1.5.0",
          "model_name": "DescriptionStyleModel",
          "state": {
            "_model_module": "@jupyter-widgets/controls",
            "_model_module_version": "1.5.0",
            "_model_name": "DescriptionStyleModel",
            "_view_count": null,
            "_view_module": "@jupyter-widgets/base",
            "_view_module_version": "1.2.0",
            "_view_name": "StyleView",
            "description_width": ""
          }
        },
        "8da252feebbf4c1aacb97b5c33eeaabc": {
          "model_module": "@jupyter-widgets/controls",
          "model_module_version": "1.5.0",
          "model_name": "HBoxModel",
          "state": {
            "_dom_classes": [],
            "_model_module": "@jupyter-widgets/controls",
            "_model_module_version": "1.5.0",
            "_model_name": "HBoxModel",
            "_view_count": null,
            "_view_module": "@jupyter-widgets/controls",
            "_view_module_version": "1.5.0",
            "_view_name": "HBoxView",
            "box_style": "",
            "children": [
              "IPY_MODEL_53757bead6b94d0ca4ff4478629037a3",
              "IPY_MODEL_051397e6e71c485c960136db94e2b9ff",
              "IPY_MODEL_a35a933bd0774831968454ba29649aad"
            ],
            "layout": "IPY_MODEL_b2bdbd6f96374f98ae9f8693c36b51cb"
          }
        },
        "9ec2873262f0458cbc8e4e03e3f414a9": {
          "model_module": "@jupyter-widgets/base",
          "model_module_version": "1.2.0",
          "model_name": "LayoutModel",
          "state": {
            "_model_module": "@jupyter-widgets/base",
            "_model_module_version": "1.2.0",
            "_model_name": "LayoutModel",
            "_view_count": null,
            "_view_module": "@jupyter-widgets/base",
            "_view_module_version": "1.2.0",
            "_view_name": "LayoutView",
            "align_content": null,
            "align_items": null,
            "align_self": null,
            "border": null,
            "bottom": null,
            "display": null,
            "flex": null,
            "flex_flow": null,
            "grid_area": null,
            "grid_auto_columns": null,
            "grid_auto_flow": null,
            "grid_auto_rows": null,
            "grid_column": null,
            "grid_gap": null,
            "grid_row": null,
            "grid_template_areas": null,
            "grid_template_columns": null,
            "grid_template_rows": null,
            "height": null,
            "justify_content": null,
            "justify_items": null,
            "left": null,
            "margin": null,
            "max_height": null,
            "max_width": null,
            "min_height": null,
            "min_width": null,
            "object_fit": null,
            "object_position": null,
            "order": null,
            "overflow": null,
            "overflow_x": null,
            "overflow_y": null,
            "padding": null,
            "right": null,
            "top": null,
            "visibility": null,
            "width": null
          }
        },
        "a35a933bd0774831968454ba29649aad": {
          "model_module": "@jupyter-widgets/controls",
          "model_module_version": "1.5.0",
          "model_name": "HTMLModel",
          "state": {
            "_dom_classes": [],
            "_model_module": "@jupyter-widgets/controls",
            "_model_module_version": "1.5.0",
            "_model_name": "HTMLModel",
            "_view_count": null,
            "_view_module": "@jupyter-widgets/controls",
            "_view_module_version": "1.5.0",
            "_view_name": "HTMLView",
            "description": "",
            "description_tooltip": null,
            "layout": "IPY_MODEL_bb36049b9fa74085ba807360503b6779",
            "placeholder": "​",
            "style": "IPY_MODEL_8823cfabbbb5477d808de07a813f8c5d",
            "value": " 3/3 [00:02&lt;00:00,  1.35it/s]"
          }
        },
        "b2bdbd6f96374f98ae9f8693c36b51cb": {
          "model_module": "@jupyter-widgets/base",
          "model_module_version": "1.2.0",
          "model_name": "LayoutModel",
          "state": {
            "_model_module": "@jupyter-widgets/base",
            "_model_module_version": "1.2.0",
            "_model_name": "LayoutModel",
            "_view_count": null,
            "_view_module": "@jupyter-widgets/base",
            "_view_module_version": "1.2.0",
            "_view_name": "LayoutView",
            "align_content": null,
            "align_items": null,
            "align_self": null,
            "border": null,
            "bottom": null,
            "display": null,
            "flex": null,
            "flex_flow": null,
            "grid_area": null,
            "grid_auto_columns": null,
            "grid_auto_flow": null,
            "grid_auto_rows": null,
            "grid_column": null,
            "grid_gap": null,
            "grid_row": null,
            "grid_template_areas": null,
            "grid_template_columns": null,
            "grid_template_rows": null,
            "height": null,
            "justify_content": null,
            "justify_items": null,
            "left": null,
            "margin": null,
            "max_height": null,
            "max_width": null,
            "min_height": null,
            "min_width": null,
            "object_fit": null,
            "object_position": null,
            "order": null,
            "overflow": null,
            "overflow_x": null,
            "overflow_y": null,
            "padding": null,
            "right": null,
            "top": null,
            "visibility": null,
            "width": null
          }
        },
        "bb36049b9fa74085ba807360503b6779": {
          "model_module": "@jupyter-widgets/base",
          "model_module_version": "1.2.0",
          "model_name": "LayoutModel",
          "state": {
            "_model_module": "@jupyter-widgets/base",
            "_model_module_version": "1.2.0",
            "_model_name": "LayoutModel",
            "_view_count": null,
            "_view_module": "@jupyter-widgets/base",
            "_view_module_version": "1.2.0",
            "_view_name": "LayoutView",
            "align_content": null,
            "align_items": null,
            "align_self": null,
            "border": null,
            "bottom": null,
            "display": null,
            "flex": null,
            "flex_flow": null,
            "grid_area": null,
            "grid_auto_columns": null,
            "grid_auto_flow": null,
            "grid_auto_rows": null,
            "grid_column": null,
            "grid_gap": null,
            "grid_row": null,
            "grid_template_areas": null,
            "grid_template_columns": null,
            "grid_template_rows": null,
            "height": null,
            "justify_content": null,
            "justify_items": null,
            "left": null,
            "margin": null,
            "max_height": null,
            "max_width": null,
            "min_height": null,
            "min_width": null,
            "object_fit": null,
            "object_position": null,
            "order": null,
            "overflow": null,
            "overflow_x": null,
            "overflow_y": null,
            "padding": null,
            "right": null,
            "top": null,
            "visibility": null,
            "width": null
          }
        },
        "f77996564c0d4fbda7693de4e9461f01": {
          "model_module": "@jupyter-widgets/controls",
          "model_module_version": "1.5.0",
          "model_name": "DescriptionStyleModel",
          "state": {
            "_model_module": "@jupyter-widgets/controls",
            "_model_module_version": "1.5.0",
            "_model_name": "DescriptionStyleModel",
            "_view_count": null,
            "_view_module": "@jupyter-widgets/base",
            "_view_module_version": "1.2.0",
            "_view_name": "StyleView",
            "description_width": ""
          }
        }
      }
    }
  },
  "nbformat": 4,
  "nbformat_minor": 5
}
