{
  "cells": [
    {
      "cell_type": "markdown",
      "id": "yn50Xc3SaVpH",
      "metadata": {
        "id": "yn50Xc3SaVpH"
      },
      "source": [
        "# Healthcare Chat bot\n",
        "\n",
        "- Get the MedQuAD dataset from the GitHub repository: https://github.com/abachaa/MedQuAD\n",
        "\n",
        "- Extract question-answer pairs: Parse the XML files in the dataset to extract the question-answer pairs. Each pair should contain the question text and its corresponding answer.\n",
        "\n",
        "- Clean and normalize the text: Remove any special characters, HTML tags, or irrelevant formatting.\n",
        "\n",
        "- Convert all text to lowercase for consistency. Remove extra whitespace.\n",
        "\n",
        "- Tokenize the text: Split the questions and answers into individual words or subwords, depending on your model's requirements.\n",
        "    - Use specialized biomedical tokenizers: BioBERT or other biomedical-specific models are recommended for tokenization of medical text, as they are pre-trained on large biomedical corpora and can better handle domain-specific terminology\n",
        "    - Handle biomedical abbreviations and terminology: Develop a custom dictionary or use medical NLP tools to expand abbreviations and standardize medical terminology . Pay special attention to ambiguous abbreviations and punctuation commonly used in medical text (e.g. \"m.g.\", \"d/c\", \"–>\")\n",
        "    - Implement domain-specific preprocessing: Clean and normalize the text by removing special characters, standardizing formats, and handling medical-specific patterns .\n",
        "    - Use advanced NLP techniques: Employ Named Entity Recognition (NER) to identify and classify medical entities like conditions, treatments, drugs, and symptoms .\n",
        "    - Utilize Part-of-Speech (POS) tagging to better understand the syntactic structure of clinical text . Consider sentence-level tokenization: Use specialized clinical sentence tokenizers like clinitokenizer, which are designed to handle the unique challenges of medical text .\n",
        "    - Implement word-level tokenization: Use techniques like WordPiece tokenization, which is employed by BERT-based models and can handle out-of-vocabulary words common in medical text .\n",
        "    - Handle punctuation carefully: Pay special attention to punctuation, as it can be ambiguous in medical text (e.g., periods in abbreviations vs. sentence endings) .\n",
        "    - Address spelling and typographical errors: Implement spelling correction mechanisms, as medical texts often contain misspellings and typos .\n",
        "    - Use machine learning approaches: Consider using supervised or unsupervised machine learning techniques to improve tokenization accuracy, especially for handling domain-specific challenges\n",
        "    - Evaluate and refine: Test your tokenization approach on a subset of the MedQuAD dataset and refine as needed. Consider using multiple tokenization strategies and comparing their performance on your specific tasks .\n",
        "\n",
        "- Create training splits: Divide the dataset into training, validation, and test sets (e.g., 80% training, 10% validation, 10% test).\n",
        "- Format for your model: Prepare the data in the format required by your chosen model architecture (e.g., input-output pairs for sequence-to-sequence models).\n",
        "- Encode the data: Convert the text to numerical representations (e.g., using word embeddings or subword tokenization). Create attention masks and other model-specific inputs if needed.\n",
        "- Save the preprocessed data: Store the processed data in a format that's easy to load for training (e.g., JSON, CSV, or a custom binary format).\n",
        "\n",
        "Remember to handle any dataset-specific annotations or metadata that may be relevant to your chatbot's performance. Additionally, consider using the provided UMLS Concept Unique Identifiers (CUIs) and Semantic Types if they can enhance your model's understanding of medical concepts.\n",
        "\n"
      ]
    },
    {
      "cell_type": "code",
      "execution_count": 2,
      "id": "pPq45lCDIzFR695FrtTkQvm1",
      "metadata": {
        "colab": {
          "base_uri": "https://localhost:8080/"
        },
        "executionInfo": {
          "elapsed": 7613,
          "status": "ok",
          "timestamp": 1726922307129,
          "user": {
            "displayName": "",
            "userId": ""
          },
          "user_tz": 240
        },
        "id": "pPq45lCDIzFR695FrtTkQvm1",
        "outputId": "f60dd33f-eedb-422a-d898-2e8b8fbccf37",
        "tags": []
      },
      "outputs": [
        {
          "name": "stdout",
          "output_type": "stream",
          "text": [
            "\u001b[2K   \u001b[90m━━━━━━━━━━━━━━━━━━━━━━━━━━━━━━━━━━━━━━━━\u001b[0m \u001b[32m5.0/5.0 MB\u001b[0m \u001b[31m19.4 MB/s\u001b[0m eta \u001b[36m0:00:00\u001b[0m\n",
            "\u001b[?25h"
          ]
        }
      ],
      "source": [
        "import requests\n",
        "!pip install -q -U lxml\n",
        "import pandas as pd\n",
        "import xml.etree.ElementTree as ET\n",
        "import os"
      ]
    },
    {
      "cell_type": "code",
      "execution_count": 4,
      "id": "0e-6OFndpkR7",
      "metadata": {
        "executionInfo": {
          "elapsed": 167,
          "status": "ok",
          "timestamp": 1726922327637,
          "user": {
            "displayName": "",
            "userId": ""
          },
          "user_tz": 240
        },
        "id": "0e-6OFndpkR7"
      },
      "outputs": [],
      "source": [
        "headers = {\n",
        "    'Authorization':'token '\n",
        "}\n",
        "\"\"\"\n",
        "Download xml files and process them\n",
        "\"\"\"\n",
        "\n",
        "list_with_ans = ['https://api.github.com/repos/komus/MedQuAD/contents/1_CancerGov_QA?ref=master',\n",
        "                 'https://api.github.com/repos/komus/MedQuAD/contents/2_GARD_QA?ref=master',\n",
        "                 'https://api.github.com/repos/komus/MedQuAD/contents/3_GHR_QA?ref=master',\n",
        "                'https://api.github.com/repos/komus/MedQuAD/contents/4_MPlus_Health_Topics_QA?ref=master',\n",
        "                'https://api.github.com/repos/komus/MedQuAD/contents/5_NIDDK_QA?ref=master',\n",
        "                 'https://api.github.com/repos/komus/MedQuAD/contents/6_NINDS_QA?ref=master',\n",
        "                 'https://api.github.com/repos/komus/MedQuAD/contents/7_SeniorHealth_QA?ref=master',\n",
        "                 'https://api.github.com/repos/komus/MedQuAD/contents/8_NHLBI_QA_XML?ref=master',\n",
        "                 'https://api.github.com/repos/komus/MedQuAD/contents/9_CDC_QA?ref=master',\n",
        "\n",
        "                 ]\n",
        "\n",
        "def download_process_xml(url):\n",
        "  #print(url)\n",
        "  try:\n",
        "    resp = requests.get(url, headers)\n",
        "    resp.raise_for_status()\n",
        "\n",
        "    xml_content = resp.content\n",
        "    root = ET.fromstring(xml_content)\n",
        "    return parse_xml_key_pair(root)\n",
        "  except Exception as e:\n",
        "    print(f\"Error {e}\")\n",
        "    return None\n",
        "\n",
        "def parse_xml_key_pair(root):\n",
        "  df = pd.DataFrame(columns=['focus','synonyms', 'semanticgroup', 'question', 'answer'])\n",
        "\n",
        "  synonyms = [sy.text.strip() for sy in root.findall(\".//Synonyms/Synonym\")]\n",
        "  focus = [sy.text.strip() for sy in root.findall(\".//Focus\")]\n",
        "  #print(synonyms)\n",
        "  semanticgroup = [se.text.strip() for se in root.findall(\".//UMLS/SemanticGroup\")]\n",
        "  #print(semanticgroup)\n",
        "  for qapair in root.findall(\".//QAPair\"):\n",
        "    question = qapair.find(\"Question\").text.strip() if qapair.find(\"Question\") is not None else \"\"\n",
        "    answer = qapair.find(\"Answer\").text.strip() if qapair.find(\"Answer\") is not None else \"\"\n",
        "\n",
        "    temp_df = pd.DataFrame({\n",
        "        'question': question,\n",
        "        'answer': answer,\n",
        "        'semanticgroup': ', '.join(semanticgroup),\n",
        "        'synonyms': [synonyms],\n",
        "        'focus': ', '.join(focus)\n",
        "    })\n",
        "    df = pd.concat([df, temp_df], ignore_index=True)\n",
        "  return df\n",
        "\n",
        "\n",
        "def parse_xml_to_dict(root):\n",
        "  data = {}\n",
        "  for elem in root.iter():\n",
        "    if elem.text:\n",
        "      data[elem.tag] = elem.text.strip()\n",
        "    else:\n",
        "      data[elem.tag] = None\n",
        "  return data\n",
        "\n",
        "output_path = \"output_medplus.jsonl\"\n",
        "\n",
        "\"\"\"\n",
        "Using the url, loop through the content of the repo and get the xml files\n",
        "\"\"\"\n",
        "def process_github_xml_files(url):\n",
        "  df = pd.DataFrame()\n",
        "  resp = requests.get(url, headers=headers)\n",
        "  contents = resp.json()\n",
        "  #print(contents)\n",
        "  if contents:\n",
        "    for item in contents:\n",
        "      if item['type']:\n",
        "        if item['type'] == 'file' and item['name'].endswith('.xml'):\n",
        "          xml_data = download_process_xml(item['download_url'])\n",
        "          if xml_data is not None:\n",
        "          #print(xml_data)\n",
        "            with open(output_path, \"w\") as f:\n",
        "              f.write(xml_data.to_json(orient='records', lines=True, force_ascii=False))\n",
        "            xml_data.to_csv('output_file1.csv', mode='a', header=not os.path.exists('output_file1.csv'), index=False)\n"
      ]
    },
    {
      "cell_type": "code",
      "execution_count": 5,
      "id": "ZyrLTGmD9tfx",
      "metadata": {
        "colab": {
          "base_uri": "https://localhost:8080/"
        },
        "executionInfo": {
          "elapsed": 661604,
          "status": "ok",
          "timestamp": 1726922994919,
          "user": {
            "displayName": "",
            "userId": ""
          },
          "user_tz": 240
        },
        "id": "ZyrLTGmD9tfx",
        "outputId": "0685bce1-db4a-4a2b-f6cb-d2617332144d"
      },
      "outputs": [
        {
          "name": "stdout",
          "output_type": "stream",
          "text": [
            "Error 'NoneType' object has no attribute 'strip'\n",
            "Error 'NoneType' object has no attribute 'strip'\n",
            "Error 'NoneType' object has no attribute 'strip'\n",
            "Error 'NoneType' object has no attribute 'strip'\n",
            "Error 'NoneType' object has no attribute 'strip'\n",
            "Error 'NoneType' object has no attribute 'strip'\n",
            "Error 'NoneType' object has no attribute 'strip'\n",
            "Error 'NoneType' object has no attribute 'strip'\n",
            "Error 'NoneType' object has no attribute 'strip'\n",
            "Error 'NoneType' object has no attribute 'strip'\n",
            "Error 'NoneType' object has no attribute 'strip'\n",
            "Error 'NoneType' object has no attribute 'strip'\n",
            "Error 'NoneType' object has no attribute 'strip'\n",
            "Error 'NoneType' object has no attribute 'strip'\n",
            "Error 'NoneType' object has no attribute 'strip'\n",
            "Error 'NoneType' object has no attribute 'strip'\n",
            "Error 'NoneType' object has no attribute 'strip'\n",
            "Error 'NoneType' object has no attribute 'strip'\n",
            "Error 'NoneType' object has no attribute 'strip'\n",
            "Error 'NoneType' object has no attribute 'strip'\n",
            "Error 'NoneType' object has no attribute 'strip'\n",
            "Error 'NoneType' object has no attribute 'strip'\n",
            "Error 'NoneType' object has no attribute 'strip'\n",
            "Error 'NoneType' object has no attribute 'strip'\n",
            "Error 'NoneType' object has no attribute 'strip'\n",
            "Error 'NoneType' object has no attribute 'strip'\n",
            "Error 'NoneType' object has no attribute 'strip'\n",
            "Error 'NoneType' object has no attribute 'strip'\n",
            "Error 'NoneType' object has no attribute 'strip'\n",
            "Error 'NoneType' object has no attribute 'strip'\n",
            "Error 'NoneType' object has no attribute 'strip'\n",
            "Error 'NoneType' object has no attribute 'strip'\n",
            "Error 'NoneType' object has no attribute 'strip'\n",
            "Error 'NoneType' object has no attribute 'strip'\n",
            "Error 'NoneType' object has no attribute 'strip'\n",
            "Error 'NoneType' object has no attribute 'strip'\n",
            "Error 'NoneType' object has no attribute 'strip'\n",
            "Error 'NoneType' object has no attribute 'strip'\n",
            "Error 'NoneType' object has no attribute 'strip'\n",
            "Error 'NoneType' object has no attribute 'strip'\n",
            "Error 'NoneType' object has no attribute 'strip'\n",
            "Error 'NoneType' object has no attribute 'strip'\n",
            "Error 'NoneType' object has no attribute 'strip'\n",
            "Error 'NoneType' object has no attribute 'strip'\n",
            "Error 'NoneType' object has no attribute 'strip'\n",
            "Error 'NoneType' object has no attribute 'strip'\n",
            "Error 'NoneType' object has no attribute 'strip'\n",
            "Error 'NoneType' object has no attribute 'strip'\n",
            "Error 'NoneType' object has no attribute 'strip'\n",
            "Error 'NoneType' object has no attribute 'strip'\n",
            "Error 'NoneType' object has no attribute 'strip'\n",
            "Error 'NoneType' object has no attribute 'strip'\n",
            "Error 'NoneType' object has no attribute 'strip'\n",
            "Error 'NoneType' object has no attribute 'strip'\n",
            "Error 'NoneType' object has no attribute 'strip'\n",
            "Error 'NoneType' object has no attribute 'strip'\n",
            "Error 'NoneType' object has no attribute 'strip'\n",
            "Error 'NoneType' object has no attribute 'strip'\n",
            "Error 'NoneType' object has no attribute 'strip'\n",
            "Error 'NoneType' object has no attribute 'strip'\n",
            "Error 'NoneType' object has no attribute 'strip'\n",
            "Error 'NoneType' object has no attribute 'strip'\n"
          ]
        }
      ],
      "source": [
        "for d in list_with_ans:\n",
        "  process_github_xml_files(d)"
      ]
    }
  ],
  "metadata": {
    "colab": {
      "name": "data_extraction",
      "provenance": []
    },
    "kernelspec": {
      "display_name": "Python 3",
      "language": "python",
      "name": "python3"
    },
    "language_info": {
      "codemirror_mode": {
        "name": "ipython",
        "version": 3
      },
      "file_extension": ".py",
      "mimetype": "text/x-python",
      "name": "python",
      "nbconvert_exporter": "python",
      "pygments_lexer": "ipython3",
      "version": "3.10.10"
    }
  },
  "nbformat": 4,
  "nbformat_minor": 5
}
